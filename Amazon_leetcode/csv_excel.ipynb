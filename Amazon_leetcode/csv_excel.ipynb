{
 "cells": [
  {
   "cell_type": "code",
   "execution_count": 2,
   "metadata": {
    "collapsed": true,
    "pycharm": {
     "name": "#%%\n"
    }
   },
   "outputs": [],
   "source": [
    "import pandas as pd"
   ]
  },
  {
   "cell_type": "code",
   "execution_count": 5,
   "outputs": [],
   "source": [
    "read_file = pd.read_table('questions.csv', delimiter=',')\n",
    "pd.set_option('display.max_columns', None)"
   ],
   "metadata": {
    "collapsed": false,
    "pycharm": {
     "name": "#%%\n"
    }
   }
  },
  {
   "cell_type": "code",
   "execution_count": 6,
   "outputs": [
    {
     "name": "stdout",
     "output_type": "stream",
     "text": [
      "                                        problem_link  \\\n",
      "0  https://leetcode.com/problems/minimum-average-...   \n",
      "1  https://leetcode.com/problems/minimum-rounds-t...   \n",
      "2  https://leetcode.com/problems/partition-array-...   \n",
      "3  https://leetcode.com/problems/minimum-sum-of-f...   \n",
      "4  https://leetcode.com/problems/rearrange-array-...   \n",
      "\n",
      "                                        problem_name  num_occur  \n",
      "0                         Minimum Average Difference          1  \n",
      "1               Minimum Rounds to Complete All Tasks          1  \n",
      "2           Partition Array According to Given Pivot          1  \n",
      "3  Minimum Sum of Four Digit Number After Splitti...          1  \n",
      "4                   Rearrange Array Elements by Sign          1  \n"
     ]
    }
   ],
   "source": [
    "print(read_file.head())"
   ],
   "metadata": {
    "collapsed": false,
    "pycharm": {
     "name": "#%%\n"
    }
   }
  },
  {
   "cell_type": "code",
   "execution_count": null,
   "outputs": [],
   "source": [],
   "metadata": {
    "collapsed": false,
    "pycharm": {
     "name": "#%%\n",
     "is_executing": true
    }
   }
  },
  {
   "cell_type": "code",
   "execution_count": 6,
   "outputs": [],
   "source": [],
   "metadata": {
    "collapsed": false,
    "pycharm": {
     "name": "#%%\n"
    }
   }
  }
 ],
 "metadata": {
  "kernelspec": {
   "display_name": "Python 3",
   "language": "python",
   "name": "python3"
  },
  "language_info": {
   "codemirror_mode": {
    "name": "ipython",
    "version": 2
   },
   "file_extension": ".py",
   "mimetype": "text/x-python",
   "name": "python",
   "nbconvert_exporter": "python",
   "pygments_lexer": "ipython2",
   "version": "2.7.6"
  }
 },
 "nbformat": 4,
 "nbformat_minor": 0
}